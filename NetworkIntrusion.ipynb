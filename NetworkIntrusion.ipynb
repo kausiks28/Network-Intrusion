{
  "nbformat": 4,
  "nbformat_minor": 0,
  "metadata": {
    "colab": {
      "name": "NetworkIntrusion.ipynb",
      "provenance": [],
      "collapsed_sections": []
    },
    "kernelspec": {
      "name": "python3",
      "display_name": "Python 3"
    }
  },
  "cells": [
    {
      "cell_type": "code",
      "metadata": {
        "id": "XgRlMde0zjAS",
        "colab_type": "code",
        "colab": {}
      },
      "source": [
        "from google.colab import drive\n",
        "drive.mount('/content/drive')"
      ],
      "execution_count": 0,
      "outputs": []
    },
    {
      "cell_type": "code",
      "metadata": {
        "id": "FmTn0kWfz0R2",
        "colab_type": "code",
        "colab": {}
      },
      "source": [
        "# import relevant modules\n",
        "%matplotlib inline\n",
        "import matplotlib\n",
        "import matplotlib.pyplot as plt\n",
        "import pandas as pd\n",
        "import numpy as np\n",
        "import seaborn as sns\n",
        "import sklearn\n",
        "import imblearn\n"
      ],
      "execution_count": 0,
      "outputs": []
    },
    {
      "cell_type": "code",
      "metadata": {
        "id": "KLDGZMOF0tGh",
        "colab_type": "code",
        "colab": {}
      },
      "source": [
        "train_data = pd.read_csv(\"/content/drive/My Drive/Sem5/Networks package/Train_data.csv\")\n",
        "test = pd.read_csv(\"/content/drive/My Drive/Sem5/Networks package/Test_data.csv\")"
      ],
      "execution_count": 0,
      "outputs": []
    },
    {
      "cell_type": "code",
      "metadata": {
        "id": "NF8zA-Vd06n2",
        "colab_type": "code",
        "colab": {}
      },
      "source": [
        "print(train_data.head(4))\n",
        "\n",
        "print(\"Training data has {} rows & {} columns\".format(train_data.shape[0],train_data.shape[1]))"
      ],
      "execution_count": 0,
      "outputs": []
    },
    {
      "cell_type": "code",
      "metadata": {
        "id": "4T9vWs7D1ADc",
        "colab_type": "code",
        "colab": {}
      },
      "source": [
        "print(test.head(4))\n",
        "\n",
        "print(\"Testing data has {} rows & {} columns\".format(test.shape[0],test.shape[1]))"
      ],
      "execution_count": 0,
      "outputs": []
    },
    {
      "cell_type": "code",
      "metadata": {
        "id": "tUEFf7rX1FIM",
        "colab_type": "code",
        "colab": {}
      },
      "source": [
        "# Descriptive statistics\n",
        "train_data.describe()"
      ],
      "execution_count": 0,
      "outputs": []
    },
    {
      "cell_type": "code",
      "metadata": {
        "id": "jPK_uSkM1NY3",
        "colab_type": "code",
        "colab": {}
      },
      "source": [
        "print(train_data['num_outbound_cmds'].value_counts())\n",
        "print(test['num_outbound_cmds'].value_counts())"
      ],
      "execution_count": 0,
      "outputs": []
    },
    {
      "cell_type": "code",
      "metadata": {
        "id": "R7PPy7N-1VE2",
        "colab_type": "code",
        "colab": {}
      },
      "source": [
        "\n",
        "train_data.drop([\"num_outbound_cmds\"], axis=1, inplace=True)\n",
        "test.drop([\"num_outboundun_cmds\"], axis=1, inplace=True)\n"
      ],
      "execution_count": 0,
      "outputs": []
    },
    {
      "cell_type": "code",
      "metadata": {
        "id": "0hAJ3fDb1c-X",
        "colab_type": "code",
        "colab": {}
      },
      "source": [
        "\n",
        "train_data['class'].value_counts()"
      ],
      "execution_count": 0,
      "outputs": []
    },
    {
      "cell_type": "code",
      "metadata": {
        "id": "jRDFgSb01kHn",
        "colab_type": "code",
        "colab": {}
      },
      "source": [
        "from sklearn.preprocessing import StandardScaler\n",
        "scaler = StandardScaler()\n",
        "\n",
        "# extract numerical attributes and scale it to have zero mean and unit variance  \n",
        "cols = train_data.select_dtypes(include=['float64','int64']).columns\n",
        "sc_train_data = scaler.fit_transform(train_data.select_dtypes(include=['float64','int64']))\n",
        "sc_test = scaler.fit_transform(test.select_dtypes(include=['float64','int64']))\n",
        "\n",
        "# turn the result back to a dataframe\n",
        "sc_train_datadf = pd.DataFrame(sc_train_data, columns = cols)\n",
        "sc_testdf = pd.DataFrame(sc_test, columns = cols)"
      ],
      "execution_count": 0,
      "outputs": []
    },
    {
      "cell_type": "code",
      "metadata": {
        "id": "F3epiMle1lQF",
        "colab_type": "code",
        "colab": {}
      },
      "source": [
        "from sklearn.preprocessing import LabelEncoder\n",
        "encoder = LabelEncoder()\n",
        "\n",
        "# extract categorical attributes from both training and test sets \n",
        "cattrain = train_data.select_dtypes(include=['object']).copy()\n",
        "cattest = test.select_dtypes(include=['object']).copy()\n",
        "\n",
        "# encode the categorical attributes\n",
        "traincat = cattrain.apply(encoder.fit_transform)\n",
        "testcat = cattest.apply(encoder.fit_transform)\n",
        "\n",
        "# separate target column from encoded data \n",
        "enctrain = traincat.drop(['class'], axis=1)\n",
        "cat_Ytrain = traincat[['class']].copy()"
      ],
      "execution_count": 0,
      "outputs": []
    },
    {
      "cell_type": "code",
      "metadata": {
        "id": "O5HjFBBm1pOp",
        "colab_type": "code",
        "colab": {}
      },
      "source": [
        "train_x = pd.concat([sc_traindf,enctrain],axis=1)\n",
        "train_y = train_data['class']\n",
        "train_x.shape"
      ],
      "execution_count": 0,
      "outputs": []
    },
    {
      "cell_type": "code",
      "metadata": {
        "id": "MiiMdYR61sV9",
        "colab_type": "code",
        "colab": {}
      },
      "source": [
        "test_df = pd.concat([sc_testdf,testcat],axis=1)\n",
        "test_df.shape"
      ],
      "execution_count": 0,
      "outputs": []
    },
    {
      "cell_type": "code",
      "metadata": {
        "id": "HmpquKaH1vmm",
        "colab_type": "code",
        "colab": {}
      },
      "source": [
        "from sklearn.ensemble import RandomForestClassifier\n",
        "rfc = RandomForestClassifier();\n",
        "\n",
        "# fit random forest classifier on the training set\n",
        "rfc.fit(train_x, train_y);\n",
        "# extract important features\n",
        "score = np.round(rfc.feature_importances_,3)\n",
        "importances = pd.DataFrame({'feature':train_x.columns,'importance':score})\n",
        "importances = importances.sort_values('importance',ascending=False).set_index('feature')\n",
        "# plot importances\n",
        "plt.rcParams['figure.figsize'] = (11, 4)\n",
        "importances.plot.bar();"
      ],
      "execution_count": 0,
      "outputs": []
    },
    {
      "cell_type": "code",
      "metadata": {
        "id": "eadXsGRN10OL",
        "colab_type": "code",
        "colab": {}
      },
      "source": [
        "from sklearn.feature_selection import RFE\n",
        "import itertools'''  '''\n",
        "rfc = RandomForestClassifier()\n",
        "\n",
        "# create the RFE model and select 10 attributes\n",
        "rfe = RFE(rfc, n_features_to_select=15)\n",
        "rfe = rfe.fit(train_x, train_y)\n",
        "\n",
        "# summarize the selection of the attributes\n",
        "feature_data_map1 = [(i, v) for i, v in itertools.zip_longest(rfe.get_support(), train_x.columns)]\n",
        "features_selected = [v for i, v in feature_data_map1 if i==True]\n",
        "\n",
        "features_selected"
      ],
      "execution_count": 0,
      "outputs": []
    },
    {
      "cell_type": "code",
      "metadata": {
        "id": "Az7aH4-Z14Vb",
        "colab_type": "code",
        "colab": {}
      },
      "source": [
        "from sklearn.model_selection import train_test_split\n",
        "\n",
        "X_train,X_test,Y_train,Y_test = train_test_split(train_x,train_y,train_size=0.70, random_state=2)"
      ],
      "execution_count": 0,
      "outputs": []
    },
    {
      "cell_type": "markdown",
      "metadata": {
        "id": "pwnVCKGvc3nx",
        "colab_type": "text"
      },
      "source": [
        ""
      ]
    },
    {
      "cell_type": "code",
      "metadata": {
        "id": "0xB8oWiG17pO",
        "colab_type": "code",
        "colab": {}
      },
      "source": [
        "from sklearn.svm import SVC \n",
        "from sklearn.naive_bayes import BernoulliNB \n",
        "from sklearn import tree\n",
        "from sklearn.model_selection import cross_val_score\n",
        "from sklearn.neighbors import KNeighborsClassifier\n",
        "from sklearn.linear_model import LogisticRegression\n",
        "\n",
        "# Train KNeighborsClassifier Model\n",
        "KNN_Classifier = KNeighborsClassifier(n_jobs=-1)\n",
        "KNN_Classifier.fit(X_train, Y_train); \n",
        "\n",
        "# Train LogisticRegression Model\n",
        "LGR_Classifier = LogisticRegression(n_jobs=-1, random_state=0)\n",
        "LGR_Classifier.fit(X_train, Y_train);\n",
        "\n",
        "# Train Gaussian Naive Baye Model\n",
        "BNB_Classifier = BernoulliNB()\n",
        "BNB_Classifier.fit(X_train, Y_train)\n",
        "            \n",
        "# Train Decision Tree Model\n",
        "DTC_Classifier = tree.DecisionTreeClassifier(criterion='entropy', random_state=0)\n",
        "DTC_Classifier.fit(X_train, Y_train)"
      ],
      "execution_count": 0,
      "outputs": []
    },
    {
      "cell_type": "code",
      "metadata": {
        "id": "aaUFFjsU2Fhq",
        "colab_type": "code",
        "colab": {}
      },
      "source": [
        "from sklearn import metrics\n",
        "\n",
        "models = []\n",
        "models.append(('Naive Baye Classifier', BNB_Classifier))\n",
        "models.append(('Decision Tree Classifier', DTC_Classifier))\n",
        "models.append(('KNeighborsClassifier', KNN_Classifier))\n",
        "models.append(('LogisticRegression', LGR_Classifier))\n",
        "\n",
        "for i, v in models:\n",
        "    scores = cross_val_score(v, X_train, Y_train, cv=10)\n",
        "    accuracy = metrics.accuracy_score(Y_train, v.predict(X_train))\n",
        "    confusion_matrix = metrics.confusion_matrix(Y_train, v.predict(X_train))\n",
        "    classification = metrics.classification_report(Y_train, v.predict(X_train))\n",
        "    print()\n",
        "    print('============================== {} Model Evaluation =============================='.format(i))\n",
        "    print()\n",
        "    print (\"Cross Validation Mean Score:\" \"\\n\", scores.mean())\n",
        "    print()\n",
        "    print (\"Model Accuracy:\" \"\\n\", accuracy)\n",
        "    print()\n",
        "    print(\"Confusion matrix:\" \"\\n\", confusion_matrix)\n",
        "    print()\n",
        "    print(\"Classification report:\" \"\\n\", classification) \n",
        "    print()"
      ],
      "execution_count": 0,
      "outputs": []
    },
    {
      "cell_type": "code",
      "metadata": {
        "id": "YH58Qw412aIh",
        "colab_type": "code",
        "colab": {}
      },
      "source": [
        "for i, v in models:\n",
        "    accuracy = metrics.accuracy_score(Y_test, v.predict(X_test))\n",
        "    confusion_matrix = metrics.confusion_matrix(Y_test, v.predict(X_test))\n",
        "    classification = metrics.classification_report(Y_test, v.predict(X_test))\n",
        "    print()\n",
        "    print('============================== {} Model Test Results =============================='.format(i))\n",
        "    print()\n",
        "    print (\"Model Accuracy:\" \"\\n\", accuracy)\n",
        "    print()\n",
        "    print(\"Confusion matrix:\" \"\\n\", confusion_matrix)\n",
        "    print()\n",
        "    print(\"Classification report:\" \"\\n\", classification) \n",
        "    print()    "
      ],
      "execution_count": 0,
      "outputs": []
    },
    {
      "cell_type": "code",
      "metadata": {
        "id": "moVwJeii2bKj",
        "colab_type": "code",
        "colab": {}
      },
      "source": [
        "# PREDICTING FOR TEST DATA using KNN\n",
        "pred_knn = KNN_Classifier.predict(test_df)\n",
        "pred_NB = BNB_Classifier.predict(test_df)\n",
        "pred_log = LGR_Classifier.predict(test_df)\n",
        "pred_dt = DTC_Classifier.predict(test_df)"
      ],
      "execution_count": 0,
      "outputs": []
    },
    {
      "cell_type": "code",
      "metadata": {
        "id": "o-jvbwLT3iOW",
        "colab_type": "code",
        "colab": {}
      },
      "source": [
        "import seaborn as sns\n",
        "pred_knn = list(pred_knn)\n",
        "sns.countplot(pred_knn)"
      ],
      "execution_count": 0,
      "outputs": []
    }
  ]
}